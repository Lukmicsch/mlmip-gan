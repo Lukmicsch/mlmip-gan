{
 "cells": [
  {
   "cell_type": "code",
   "execution_count": null,
   "metadata": {},
   "outputs": [],
   "source": [
    "import os\n",
    "import pathlib\n",
    "import argparse\n",
    "import torch\n",
    "\n",
    "from utils.python_utils import load_config\n",
    "from pix2pix import run_pix2pix_train\n",
    "from dcgan import run_dcgan_train"
   ]
  },
  {
   "cell_type": "code",
   "execution_count": null,
   "metadata": {},
   "outputs": [],
   "source": [
    "# Init arguments\n",
    "config_name = 'dcgan'\n",
    "train = True\n",
    "os.environ['CUDA_VISIBLE_DEVICES'] = '0'"
   ]
  },
  {
   "cell_type": "code",
   "execution_count": null,
   "metadata": {},
   "outputs": [],
   "source": [
    "# Initialize abs path to config folder and data/x\n",
    "    abs_path = pathlib.Path().absolute()\n",
    "\n",
    "    # Initialize path to config and load dict\n",
    "    config_path = 'configs.' + config_name\n",
    "    config = load_config(config_path)\n",
    "    \n",
    "    algorithm = config['algorithm']\n",
    "\n",
    "    if train:\n",
    "        if algorithm == \"dcgan\": run_dcgan_train(config)\n",
    "        if algorithm == \"pix2pix\": run_pix2pix_train(config)"
   ]
  },
  {
   "cell_type": "code",
   "execution_count": null,
   "metadata": {},
   "outputs": [],
   "source": []
  }
 ],
 "metadata": {
  "kernelspec": {
   "display_name": "mlmip-venv",
   "language": "python",
   "name": "mlmip-venv"
  },
  "language_info": {
   "codemirror_mode": {
    "name": "ipython",
    "version": 3
   },
   "file_extension": ".py",
   "mimetype": "text/x-python",
   "name": "python",
   "nbconvert_exporter": "python",
   "pygments_lexer": "ipython3",
   "version": "3.6.9"
  }
 },
 "nbformat": 4,
 "nbformat_minor": 4
}
