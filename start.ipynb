{
 "cells": [
  {
   "cell_type": "code",
   "execution_count": null,
   "metadata": {},
   "outputs": [],
   "source": [
    "import os\n",
    "import pathlib\n",
    "import argparse\n",
    "import torch\n",
    "\n",
    "from utils.python_utils import load_config\n",
    "from dcgan import run_dcgan_train\n",
    "#from style_gan import run_style_gan_train"
   ]
  },
  {
   "cell_type": "code",
   "execution_count": null,
   "metadata": {},
   "outputs": [],
   "source": [
    "# Init arguments\n",
    "config_name = 'dcgan256'\n",
    "train = True\n",
    "os.environ['CUDA_VISIBLE_DEVICES'] = '0'"
   ]
  },
  {
   "cell_type": "code",
   "execution_count": null,
   "metadata": {},
   "outputs": [],
   "source": [
    "# Initialize abs path to config folder and data/x\n",
    "    abs_path = pathlib.Path().absolute()\n",
    "\n",
    "    # Initialize path to config and load dict\n",
    "    config_path = 'configs.' + config_name\n",
    "    config = load_config(config_path)\n",
    "    \n",
    "    algorithm = config['algorithm']\n",
    "\n",
    "    if train:\n",
    "        if algorithm == 'dcgan' or algorithm == 'dcgan256': run_dcgan_train(config)\n",
    "        #elif algorithm == 'style_gan': run_style_gan_train(config)"
   ]
  }
 ],
 "metadata": {
  "kernelspec": {
   "display_name": "mlmip-venv",
   "language": "python",
   "name": "mlmip-venv"
  },
  "language_info": {
   "codemirror_mode": {
    "name": "ipython",
    "version": 3
   },
   "file_extension": ".py",
   "mimetype": "text/x-python",
   "name": "python",
   "nbconvert_exporter": "python",
   "pygments_lexer": "ipython3",
   "version": "3.6.9"
  }
 },
 "nbformat": 4,
 "nbformat_minor": 4
}
